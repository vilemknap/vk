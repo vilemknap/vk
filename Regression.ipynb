{
  "nbformat": 4,
  "nbformat_minor": 0,
  "metadata": {
    "colab": {
      "name": "Regression.ipynb",
      "provenance": [],
      "authorship_tag": "ABX9TyOgtHO14LcdW+w1oNtUNnye",
      "include_colab_link": true
    },
    "kernelspec": {
      "name": "python3",
      "display_name": "Python 3"
    }
  },
  "cells": [
    {
      "cell_type": "markdown",
      "metadata": {
        "id": "view-in-github",
        "colab_type": "text"
      },
      "source": [
        "<a href=\"https://colab.research.google.com/github/vilemknap/vk/blob/master/Regression.ipynb\" target=\"_parent\"><img src=\"https://colab.research.google.com/assets/colab-badge.svg\" alt=\"Open In Colab\"/></a>"
      ]
    },
    {
      "cell_type": "markdown",
      "metadata": {
        "id": "94PTQ8uwjgXF"
      },
      "source": [
        "# Linear Regression\n",
        "https://github.com/vilemknap/PythonDataScienceHandbook/blob/master/notebooks/05.06-Linear-Regression.ipynb"
      ]
    },
    {
      "cell_type": "code",
      "metadata": {
        "id": "L6GBdHoTjSGP"
      },
      "source": [
        "%matplotlib inline\n",
        "import matplotlib.pyplot as plt\n",
        "import seaborn as sns; sns.set()\n",
        "import numpy as np"
      ],
      "execution_count": 2,
      "outputs": []
    },
    {
      "cell_type": "markdown",
      "metadata": {
        "id": "kUVuiPmRkDAm"
      },
      "source": [
        "## Simple Linear Regression"
      ]
    },
    {
      "cell_type": "code",
      "metadata": {
        "colab": {
          "base_uri": "https://localhost:8080/",
          "height": 268
        },
        "id": "iMFxxxozjWMt",
        "outputId": "e620881a-8f00-41b2-84d5-e5bab5e7398e"
      },
      "source": [
        "\n",
        "rng = np.random.RandomState(1)\n",
        "x = 10 * rng.rand(50)\n",
        "y = 2 * x - 5 + rng.randn(50)\n",
        "plt.scatter(x, y);"
      ],
      "execution_count": 3,
      "outputs": [
        {
          "output_type": "display_data",
          "data": {
            "image/png": "[encoded data removed]",
            "text/plain": [
              "<Figure size 432x288 with 1 Axes>"
            ]
          },
          "metadata": {
            "tags": []
          }
        }
      ]
    },
    {
      "cell_type": "code",
      "metadata": {
        "colab": {
          "base_uri": "https://localhost:8080/",
          "height": 268
        },
        "id": "eORz3myrjWKM",
        "outputId": "0dcea22f-51ed-4f1a-d493-919092a0e6c8"
      },
      "source": [
        "from sklearn.linear_model import LinearRegression\n",
        "model = LinearRegression(fit_intercept=True)\n",
        "\n",
        "model.fit(x[:, np.newaxis], y)\n",
        "\n",
        "xfit = np.linspace(0, 10, 1000)\n",
        "yfit = model.predict(xfit[:, np.newaxis])\n",
        "\n",
        "plt.scatter(x, y)\n",
        "plt.plot(xfit, yfit);"
      ],
      "execution_count": 4,
      "outputs": [
        {
          "output_type": "display_data",
          "data": {
            "image/png": "[encoded data removed]",
            "text/plain": [
              "<Figure size 432x288 with 1 Axes>"
            ]
          },
          "metadata": {
            "tags": []
          }
        }
      ]
    },
    {
      "cell_type": "code",
      "metadata": {
        "colab": {
          "base_uri": "https://localhost:8080/"
        },
        "id": "M1a2BVJGjWH8",
        "outputId": "325fed52-02a9-4690-a15e-f980b80b1523"
      },
      "source": [
        "print(\"Model slope:    \", model.coef_[0])\n",
        "print(\"Model intercept:\", model.intercept_)"
      ],
      "execution_count": 5,
      "outputs": [
        {
          "output_type": "stream",
          "text": [
            "Model slope:     2.0272088103606953\n",
            "Model intercept: -4.998577085553204\n"
          ],
          "name": "stdout"
        }
      ]
    },
    {
      "cell_type": "code",
      "metadata": {
        "colab": {
          "base_uri": "https://localhost:8080/"
        },
        "id": "c68Dctz4jWBE",
        "outputId": "a0e6f3f0-4530-4a0a-d841-66cdd6988457"
      },
      "source": [
        "\n",
        "rng = np.random.RandomState(1)\n",
        "X = 10 * rng.rand(100, 3)\n",
        "y = 0.5 + np.dot(X, [1.5, -2., 1.])\n",
        "\n",
        "model.fit(X, y)\n",
        "print(model.intercept_)\n",
        "print(model.coef_)"
      ],
      "execution_count": 6,
      "outputs": [
        {
          "output_type": "stream",
          "text": [
            "0.50000000000001\n",
            "[ 1.5 -2.   1. ]\n"
          ],
          "name": "stdout"
        }
      ]
    },
    {
      "cell_type": "markdown",
      "metadata": {
        "id": "bWnzFCjrk7n4"
      },
      "source": [
        "\n",
        "# Basis Function Regression\n",
        "## Polynomial basis functions\n"
      ]
    },
    {
      "cell_type": "code",
      "metadata": {
        "colab": {
          "base_uri": "https://localhost:8080/"
        },
        "id": "Ash_qRawk8KY",
        "outputId": "680a7460-83b7-401e-c778-e4a8a99f111f"
      },
      "source": [
        "from sklearn.preprocessing import PolynomialFeatures\n",
        "x = np.array([2, 3, 4])\n",
        "poly = PolynomialFeatures(3, include_bias=False)\n",
        "poly.fit_transform(x[:, None])"
      ],
      "execution_count": 9,
      "outputs": [
        {
          "output_type": "execute_result",
          "data": {
            "text/plain": [
              "array([[ 2.,  4.,  8.],\n",
              "       [ 3.,  9., 27.],\n",
              "       [ 4., 16., 64.]])"
            ]
          },
          "metadata": {
            "tags": []
          },
          "execution_count": 9
        }
      ]
    },
    {
      "cell_type": "code",
      "metadata": {
        "id": "2XsQ9TbllWeg"
      },
      "source": [
        "from sklearn.pipeline import make_pipeline\n",
        "poly_model = make_pipeline(PolynomialFeatures(7),\n",
        "                           LinearRegression())"
      ],
      "execution_count": 10,
      "outputs": []
    },
    {
      "cell_type": "code",
      "metadata": {
        "colab": {
          "base_uri": "https://localhost:8080/",
          "height": 268
        },
        "id": "2WV6I1F1nZv8",
        "outputId": "423aabdc-19e9-4361-e43a-fbd8b585cc9e"
      },
      "source": [
        "rng = np.random.RandomState(1)\n",
        "x = 10 * rng.rand(50)\n",
        "y = np.sin(x) + 0.1 * rng.randn(50)\n",
        "\n",
        "poly_model.fit(x[:, np.newaxis], y)\n",
        "yfit = poly_model.predict(xfit[:, np.newaxis])\n",
        "\n",
        "plt.scatter(x, y)\n",
        "plt.plot(xfit, yfit);"
      ],
      "execution_count": 11,
      "outputs": [
        {
          "output_type": "display_data",
          "data": {
            "image/png": "[encoded data removed]",
            "text/plain": [
              "<Figure size 432x288 with 1 Axes>"
            ]
          },
          "metadata": {
            "tags": []
          }
        }
      ]
    },
    {
      "cell_type": "code",
      "metadata": {
        "colab": {
          "base_uri": "https://localhost:8080/",
          "height": 268
        },
        "id": "DC8IYc1unx1E",
        "outputId": "c070412c-31e3-448f-fc65-735a7bff6dda"
      },
      "source": [
        "from sklearn.base import BaseEstimator, TransformerMixin\n",
        "\n",
        "class GaussianFeatures(BaseEstimator, TransformerMixin):\n",
        "    \"\"\"Uniformly spaced Gaussian features for one-dimensional input\"\"\"\n",
        "    \n",
        "    def __init__(self, N, width_factor=2.0):\n",
        "        self.N = N\n",
        "        self.width_factor = width_factor\n",
        "    \n",
        "    @staticmethod\n",
        "    def _gauss_basis(x, y, width, axis=None):\n",
        "        arg = (x - y) / width\n",
        "        return np.exp(-0.5 * np.sum(arg ** 2, axis))\n",
        "        \n",
        "    def fit(self, X, y=None):\n",
        "        # create N centers spread along the data range\n",
        "        self.centers_ = np.linspace(X.min(), X.max(), self.N)\n",
        "        self.width_ = self.width_factor * (self.centers_[1] - self.centers_[0])\n",
        "        return self\n",
        "        \n",
        "    def transform(self, X):\n",
        "        return self._gauss_basis(X[:, :, np.newaxis], self.centers_,\n",
        "                                 self.width_, axis=1)\n",
        "    \n",
        "gauss_model = make_pipeline(GaussianFeatures(20),\n",
        "                            LinearRegression())\n",
        "gauss_model.fit(x[:, np.newaxis], y)\n",
        "yfit = gauss_model.predict(xfit[:, np.newaxis])\n",
        "\n",
        "plt.scatter(x, y)\n",
        "plt.plot(xfit, yfit)\n",
        "plt.xlim(0, 10);"
      ],
      "execution_count": 12,
      "outputs": [
        {
          "output_type": "display_data",
          "data": {
            "image/png": "[encoded data removed]",
            "text/plain": [
              "<Figure size 432x288 with 1 Axes>"
            ]
          },
          "metadata": {
            "tags": []
          }
        }
      ]
    },
    {
      "cell_type": "markdown",
      "metadata": {
        "id": "Jp7SgumyoAcc"
      },
      "source": [
        "# Regularization\n",
        "The introduction of basis functions into our linear regression makes the model much more flexible, but it also can very quickly lead to over-fitting (refer back to Hyperparameters and Model Validation for a discussion of this). For example, if we choose too many Gaussian basis functions, we end up with results that don't look so good:\n"
      ]
    },
    {
      "cell_type": "code",
      "metadata": {
        "colab": {
          "base_uri": "https://localhost:8080/",
          "height": 272
        },
        "id": "dnqG6TVNoDCt",
        "outputId": "bafe9e0a-40e6-484b-cad8-9c18e8e069b3"
      },
      "source": [
        "model = make_pipeline(GaussianFeatures(30),\n",
        "                      LinearRegression())\n",
        "model.fit(x[:, np.newaxis], y)\n",
        "\n",
        "plt.scatter(x, y)\n",
        "plt.plot(xfit, model.predict(xfit[:, np.newaxis]))\n",
        "\n",
        "plt.xlim(0, 10)\n",
        "plt.ylim(-1.5, 1.5);"
      ],
      "execution_count": 13,
      "outputs": [
        {
          "output_type": "display_data",
          "data": {
            "image/png": "[encoded data removed]",
            "text/plain": [
              "<Figure size 432x288 with 1 Axes>"
            ]
          },
          "metadata": {
            "tags": []
          }
        }
      ]
    },
    {
      "cell_type": "markdown",
      "metadata": {
        "id": "slD8GcwtoJP1"
      },
      "source": [
        "\n",
        "With the data projected to the 30-dimensional basis, the model has far too much flexibility and goes to extreme values between locations where it is constrained by data. We can see the reason for this if we plot the coefficients of the Gaussian bases with respect to their locations:"
      ]
    },
    {
      "cell_type": "code",
      "metadata": {
        "colab": {
          "base_uri": "https://localhost:8080/",
          "height": 285
        },
        "id": "8_f_VAl1oKUM",
        "outputId": "55dc968c-d57a-4c55-f320-81136a689ca5"
      },
      "source": [
        "def basis_plot(model, title=None):\n",
        "    fig, ax = plt.subplots(2, sharex=True)\n",
        "    model.fit(x[:, np.newaxis], y)\n",
        "    ax[0].scatter(x, y)\n",
        "    ax[0].plot(xfit, model.predict(xfit[:, np.newaxis]))\n",
        "    ax[0].set(xlabel='x', ylabel='y', ylim=(-1.5, 1.5))\n",
        "    \n",
        "    if title:\n",
        "        ax[0].set_title(title)\n",
        "\n",
        "    ax[1].plot(model.steps[0][1].centers_,\n",
        "               model.steps[1][1].coef_)\n",
        "    ax[1].set(xlabel='basis location',\n",
        "              ylabel='coefficient',\n",
        "              xlim=(0, 10))\n",
        "    \n",
        "model = make_pipeline(GaussianFeatures(30), LinearRegression())\n",
        "basis_plot(model)"
      ],
      "execution_count": 14,
      "outputs": [
        {
          "output_type": "display_data",
          "data": {
            "image/png": "[encoded data removed]",
            "text/plain": [
              "<Figure size 432x288 with 2 Axes>"
            ]
          },
          "metadata": {
            "tags": []
          }
        }
      ]
    },
    {
      "cell_type": "markdown",
      "metadata": {
        "id": "JaDIMFzVoW29"
      },
      "source": [
        "The lower panel of this figure shows the amplitude of the basis function at each location. This is typical over-fitting behavior when basis functions overlap: the coefficients of adjacent basis functions blow up and cancel each other out. We know that such behavior is problematic, and it would be nice if we could limit such spikes expliticly in the model by penalizing large values of the model parameters. Such a penalty is known as regularization, and comes in several forms."
      ]
    },
    {
      "cell_type": "markdown",
      "metadata": {
        "id": "xEmIOOTszZu5"
      },
      "source": [
        "## Ridge regression ($L_2$ Regularization)\n",
        "\n",
        "Perhaps the most common form of regularization is known as ridge regression or $L_2$ regularization, sometimes also called Tikhonov regularization. This proceeds by penalizing the sum of squares (2-norms) of the model coefficients; in this case, the penalty on the model fit would be\n",
        "![image.png](data:image/png;base64,iVBORw0KGgoAAAANSUhEUgAAAGkAAAAVCAYAAABFYsCAAAADfUlEQVRoBe3Xi3HVMBAF0C2BEiiBDqAD6AA6gA6gAyiBDqAD6AA6gA6gA5iTeTezUWw/5/0zyc54JMvS6u7dj+SqhynvqupLM/1JVX2uqhdt7LF7ZgZeVdXfwSmfzozpcfuBgQ9V9aaqvrbxS3HS06p6XlXaeyfPqurbhlgkzz2INy+P0jaKtUQ2IUNmXUKpg0GweMZM30CuQgQv5lGrL0m+V9W/lYSyxTnD2G4Hp8gigow4ezN0soZD4BAgkd4Ptny7bhn2c0NEwP+uqo/XM87bQTDS/wzEL6EKGZkjs1JKoi+ZlTnHbgVPHILfqSyGc6oKXGETrRZGKBC9swsy8UQt4+Dpt7NtWwu+CIK6KI/JrD5+rL79e1Dgu79nX/N6Bcj4VYsAqdbF2JSiPueUffh2CRyZw45kEsyCcJaMAxslwMbyO+Uk83pg3YCRKNVGMjaVkplziBZRbzcZi0jv9p6Kct9SlmeNOQSoA+tQocZg57Q+hudu060ASoTm4oC0KcUdO4W5SS21feO+Xh+QX61Oc4x0Z8CUk6yhz/cfJ8yEEfdd3nNsvG4Xs5ebipCkCJfvq8ozVrSr/URn0o9315QCBJu37bkVEc1Ce/azIgYZXxLn5FR5Xlpzrm8IzyUhXCUpwg0n5Zv2VmCr07vU+X2NBsS+4zlhDNBt4uCXUZcuYyDCC3sPzq02KCuIueW9LSvNXypz+TanV8batwvgsnqNiMY53WvWn2pOKlT2S1LcCTuv9qt3lG1rbYbobU/PlK7TOudKBGhOY5Q1KQX53lsOSj3v4+fq5yyd2n90Er7h78Je89iklN/wByL8IHay+uJj9gHjFBg8wDNWCRuN6DjMuZR/N7hgD8kdZ/qCUVUhS85UQRJ4N5y0eFhtFB+zYRzCgWcs8Z7+Zui6kW13qeX0R0Km9zVnXtatbWXCnCSw5vZlFyfBaM5SkM7tcRHjDJFta8X8ZBzjrfUuWhHi+5QgKOfp2E7Nz9iSkzJnroUrWO0P41ygzuk4+zjAMmgNcNnjX0MZ75nEMSKa6B9a9nGSAApWejhqja2HtmEvfYA7N8fIHt85xjmXC0g2ZbA6r0XGUkbKsPzUj230TbX7OGlK370aQ2w/O9f2E5mMVT5S51Na+vdOiGybu7H2eb0P44N2Uidj1z7H5AyKE3bVNa7jIPo5ae5iMK5Z9f4f2VDX4FZYgQoAAAAASUVORK5CYII=)\n",
        "\n",
        "where $\\alpha$ is a free parameter that controls the strength of the penalty. This type of penalized model is built into Scikit-Learn with the Ridge estimator:\n",
        "\n",
        "\n"
      ]
    },
    {
      "cell_type": "code",
      "metadata": {
        "colab": {
          "base_uri": "https://localhost:8080/",
          "height": 301
        },
        "id": "fdz6gt5toKM0",
        "outputId": "f72bad95-1dcd-4692-aedb-20a774b19af1"
      },
      "source": [
        "from sklearn.linear_model import Ridge\n",
        "model = make_pipeline(GaussianFeatures(30), Ridge(alpha=0.1))\n",
        "basis_plot(model, title='Ridge Regression')"
      ],
      "execution_count": 19,
      "outputs": [
        {
          "output_type": "display_data",
          "data": {
            "image/png": "[encoded data removed]",
            "text/plain": [
              "<Figure size 432x288 with 2 Axes>"
            ]
          },
          "metadata": {
            "tags": []
          }
        }
      ]
    },
    {
      "cell_type": "markdown",
      "metadata": {
        "id": "xDWI62mFz81V"
      },
      "source": [
        "The $\\alpha$ parameter is essentially a knob controlling the complexity of the resulting model. In the limit $\\alpha \\to 0$, we recover the standard linear regression result; in the limit $\\alpha \\to \\infty$, all model responses will be suppressed. One advantage of ridge regression in particular is that it can be computed very efficiently—at hardly more computational cost than the original linear regression model."
      ]
    },
    {
      "cell_type": "markdown",
      "metadata": {
        "id": "XPitMLz20KPe"
      },
      "source": [
        "## Lasso regression ($L_1$ regularization)\n",
        "\n",
        "Another very common type of regularization is known as lasso, and involves penalizing the sum of absolute values (1-norms) of regression coefficients:$$\n",
        "P = \\alpha\\sum_{n=1}^N |\\theta_n|\n",
        "$$Though this is conceptually very similar to ridge regression, the results can differ surprisingly: for example, due to geometric reasons lasso regression tends to favor sparse models where possible: that is, it preferentially sets model coefficients to exactly zero.\n",
        "\n",
        "We can see this behavior in duplicating the ridge regression figure, but using L1-normalized coefficients:"
      ]
    },
    {
      "cell_type": "code",
      "metadata": {
        "colab": {
          "base_uri": "https://localhost:8080/",
          "height": 355
        },
        "id": "jKQ5-t4nzvwb",
        "outputId": "89c1d017-1d71-4d1d-bb58-4f827ee2a782"
      },
      "source": [
        "from sklearn.linear_model import Lasso\n",
        "model = make_pipeline(GaussianFeatures(30), Lasso(alpha=0.001))\n",
        "basis_plot(model, title='Lasso Regression')"
      ],
      "execution_count": 21,
      "outputs": [
        {
          "output_type": "stream",
          "text": [
            "/usr/local/lib/python3.6/dist-packages/sklearn/linear_model/_coordinate_descent.py:476: ConvergenceWarning: Objective did not converge. You might want to increase the number of iterations. Duality gap: 0.002135815870488944, tolerance: 0.002065280097246271\n",
            "  positive)\n"
          ],
          "name": "stderr"
        },
        {
          "output_type": "display_data",
          "data": {
            "image/png": "[encoded data removed]",
            "text/plain": [
              "<Figure size 432x288 with 2 Axes>"
            ]
          },
          "metadata": {
            "tags": []
          }
        }
      ]
    },
    {
      "cell_type": "markdown",
      "metadata": {
        "id": "aDdW0Q411mPa"
      },
      "source": [
        "\n",
        "With the lasso regression penalty, the majority of the coefficients are exactly zero, with the functional behavior being modeled by a small subset of the available basis functions. As with ridge regularization, the $\\alpha$ parameter tunes the strength of the penalty, and should be determined via, for example, cross-validation (refer back to Hyperparameters and Model Validation for a discussion of this)."
      ]
    },
    {
      "cell_type": "markdown",
      "metadata": {
        "id": "72upFMSk1n5d"
      },
      "source": [
        "#Example: Predicting Bicycle Traffic\n"
      ]
    },
    {
      "cell_type": "code",
      "metadata": {
        "id": "__MccZr61m5y"
      },
      "source": [
        "import pandas as pd\n",
        "import io\n",
        "import requests\n",
        "url=\"https://data.seattle.gov/api/views/65db-xm6k/rows.csv?accessType=DOWNLOAD\"\n",
        "s=requests.get(url).content\n",
        "counts=pd.read_csv(io.StringIO(s.decode('utf-8')), index_col='Date', parse_dates=True)"
      ],
      "execution_count": 46,
      "outputs": []
    },
    {
      "cell_type": "code",
      "metadata": {
        "id": "NC4z4KSK1nMq"
      },
      "source": [
        "url2=\"https://www.ncei.noaa.gov/orders/cdo/2368896.csv\"\n",
        "s=requests.get(url2).content\n",
        "weather=pd.read_csv(io.StringIO(s.decode('utf-8')), index_col='DATE', parse_dates=True)\n"
      ],
      "execution_count": 48,
      "outputs": []
    },
    {
      "cell_type": "code",
      "metadata": {
        "id": "UWOmcKYr1m8j"
      },
      "source": [
        "daily = counts.resample('d').sum()\n",
        "daily['Total'] = daily.sum(axis=1)\n",
        "daily = daily[['Total']] # remove other columns"
      ],
      "execution_count": 49,
      "outputs": []
    },
    {
      "cell_type": "markdown",
      "metadata": {
        "id": "qtxy5W_VJ-7H"
      },
      "source": [
        "We saw previously that the patterns of use generally vary from day to day; let's account for this in our data by adding binary columns that indicate the day of the week:\n",
        "\n"
      ]
    },
    {
      "cell_type": "code",
      "metadata": {
        "id": "4McnBB94J6ZW"
      },
      "source": [
        "days = ['Mon', 'Tue', 'Wed', 'Thu', 'Fri', 'Sat', 'Sun']\n",
        "for i in range(7):\n",
        "    daily[days[i]] = (daily.index.dayofweek == i).astype(float)"
      ],
      "execution_count": 50,
      "outputs": []
    },
    {
      "cell_type": "markdown",
      "metadata": {
        "id": "mF7I5chzJ-c9"
      },
      "source": [
        "Similarly, we might expect riders to behave differently on holidays; let's add an indicator of this as well:\n",
        "\n"
      ]
    },
    {
      "cell_type": "code",
      "metadata": {
        "id": "l90EXEmMJ-De"
      },
      "source": [
        "from pandas.tseries.holiday import USFederalHolidayCalendar\n",
        "cal = USFederalHolidayCalendar()\n",
        "holidays = cal.holidays('2012', '2016')\n",
        "daily = daily.join(pd.Series(1, index=holidays, name='holiday'))\n",
        "daily['holiday'].fillna(0, inplace=True)"
      ],
      "execution_count": 51,
      "outputs": []
    },
    {
      "cell_type": "code",
      "metadata": {
        "colab": {
          "base_uri": "https://localhost:8080/"
        },
        "id": "cGl-Pg-EKISG",
        "outputId": "750f42ae-371f-402f-bd7e-3115c0d6e1a9"
      },
      "source": [
        "daily['holiday']"
      ],
      "execution_count": 52,
      "outputs": [
        {
          "output_type": "execute_result",
          "data": {
            "text/plain": [
              "Date\n",
              "2012-10-03    0.0\n",
              "2012-10-04    0.0\n",
              "2012-10-05    0.0\n",
              "2012-10-06    0.0\n",
              "2012-10-07    0.0\n",
              "             ... \n",
              "2020-10-27    0.0\n",
              "2020-10-28    0.0\n",
              "2020-10-29    0.0\n",
              "2020-10-30    0.0\n",
              "2020-10-31    0.0\n",
              "Freq: D, Name: holiday, Length: 2951, dtype: float64"
            ]
          },
          "metadata": {
            "tags": []
          },
          "execution_count": 52
        }
      ]
    },
    {
      "cell_type": "markdown",
      "metadata": {
        "id": "8msoDVKtKsW2"
      },
      "source": [
        "We also might suspect that the hours of daylight would affect how many people ride; let's use the standard astronomical calculation to add this information:\n",
        "\n"
      ]
    },
    {
      "cell_type": "code",
      "metadata": {
        "colab": {
          "base_uri": "https://localhost:8080/",
          "height": 340
        },
        "id": "JieptKSmKOce",
        "outputId": "eab63849-bc16-415f-85f3-f1e4a4451123"
      },
      "source": [
        "\n",
        "def hours_of_daylight(date, axis=23.44, latitude=47.61):\n",
        "    \"\"\"Compute the hours of daylight for the given date\"\"\"\n",
        "    days = (date - pd.datetime(2000, 12, 21)).days\n",
        "    m = (1. - np.tan(np.radians(latitude))\n",
        "         * np.tan(np.radians(axis) * np.cos(days * 2 * np.pi / 365.25)))\n",
        "    return 24. * np.degrees(np.arccos(1 - np.clip(m, 0, 2))) / 180.\n",
        "\n",
        "daily['daylight_hrs'] = list(map(hours_of_daylight, daily.index))\n",
        "daily[['daylight_hrs']].plot()\n",
        "plt.ylim(8, 17)"
      ],
      "execution_count": 53,
      "outputs": [
        {
          "output_type": "stream",
          "text": [
            "/usr/local/lib/python3.6/dist-packages/ipykernel_launcher.py:4: FutureWarning: The pandas.datetime class is deprecated and will be removed from pandas in a future version. Import from datetime instead.\n",
            "  after removing the cwd from sys.path.\n"
          ],
          "name": "stderr"
        },
        {
          "output_type": "execute_result",
          "data": {
            "text/plain": [
              "(8.0, 17.0)"
            ]
          },
          "metadata": {
            "tags": []
          },
          "execution_count": 53
        },
        {
          "output_type": "display_data",
          "data": {
            "image/png": "[encoded data removed]",
            "text/plain": [
              "<Figure size 432x288 with 1 Axes>"
            ]
          },
          "metadata": {
            "tags": []
          }
        }
      ]
    },
    {
      "cell_type": "markdown",
      "metadata": {
        "id": "UbAjU0gpK41H"
      },
      "source": [
        "\n",
        "We can also add the average temperature and total precipitation to the data. In addition to the inches of precipitation, let's add a flag that indicates whether a day is dry (has zero precipitation):"
      ]
    },
    {
      "cell_type": "code",
      "metadata": {
        "colab": {
          "base_uri": "https://localhost:8080/",
          "height": 450
        },
        "id": "sJc4kgavLzW_",
        "outputId": "10b6f1d0-20e3-4f31-b760-39fe602fe88e"
      },
      "source": [
        "weather"
      ],
      "execution_count": 58,
      "outputs": [
        {
          "output_type": "execute_result",
          "data": {
            "text/html": [
              "<div>\n",
              "<style scoped>\n",
              "    .dataframe tbody tr th:only-of-type {\n",
              "        vertical-align: middle;\n",
              "    }\n",
              "\n",
              "    .dataframe tbody tr th {\n",
              "        vertical-align: top;\n",
              "    }\n",
              "\n",
              "    .dataframe thead th {\n",
              "        text-align: right;\n",
              "    }\n",
              "</style>\n",
              "<table border=\"1\" class=\"dataframe\">\n",
              "  <thead>\n",
              "    <tr style=\"text-align: right;\">\n",
              "      <th></th>\n",
              "      <th>STATION</th>\n",
              "      <th>NAME</th>\n",
              "      <th>LATITUDE</th>\n",
              "      <th>LONGITUDE</th>\n",
              "      <th>ELEVATION</th>\n",
              "      <th>AWND</th>\n",
              "      <th>PGTM</th>\n",
              "      <th>PRCP</th>\n",
              "      <th>SNOW</th>\n",
              "      <th>SNWD</th>\n",
              "      <th>TAVG</th>\n",
              "      <th>TMAX</th>\n",
              "      <th>TMIN</th>\n",
              "      <th>WDF2</th>\n",
              "      <th>WDF5</th>\n",
              "      <th>WSF2</th>\n",
              "      <th>WSF5</th>\n",
              "      <th>WT01</th>\n",
              "      <th>WT02</th>\n",
              "      <th>WT03</th>\n",
              "      <th>WT08</th>\n",
              "      <th>Temp (C)</th>\n",
              "      <th>dry day</th>\n",
              "    </tr>\n",
              "    <tr>\n",
              "      <th>DATE</th>\n",
              "      <th></th>\n",
              "      <th></th>\n",
              "      <th></th>\n",
              "      <th></th>\n",
              "      <th></th>\n",
              "      <th></th>\n",
              "      <th></th>\n",
              "      <th></th>\n",
              "      <th></th>\n",
              "      <th></th>\n",
              "      <th></th>\n",
              "      <th></th>\n",
              "      <th></th>\n",
              "      <th></th>\n",
              "      <th></th>\n",
              "      <th></th>\n",
              "      <th></th>\n",
              "      <th></th>\n",
              "      <th></th>\n",
              "      <th></th>\n",
              "      <th></th>\n",
              "      <th></th>\n",
              "      <th></th>\n",
              "    </tr>\n",
              "  </thead>\n",
              "  <tbody>\n",
              "    <tr>\n",
              "      <th>2020-01-01</th>\n",
              "      <td>USW00024233</td>\n",
              "      <td>SEATTLE TACOMA AIRPORT, WA US</td>\n",
              "      <td>47.4444</td>\n",
              "      <td>-122.3138</td>\n",
              "      <td>112.8</td>\n",
              "      <td>14.32</td>\n",
              "      <td>NaN</td>\n",
              "      <td>0.000000e+00</td>\n",
              "      <td>0.0</td>\n",
              "      <td>0.0</td>\n",
              "      <td>51.0</td>\n",
              "      <td>0.53</td>\n",
              "      <td>0.46</td>\n",
              "      <td>220.0</td>\n",
              "      <td>220.0</td>\n",
              "      <td>25.1</td>\n",
              "      <td>33.1</td>\n",
              "      <td>NaN</td>\n",
              "      <td>NaN</td>\n",
              "      <td>NaN</td>\n",
              "      <td>NaN</td>\n",
              "      <td>0.495</td>\n",
              "      <td>1</td>\n",
              "    </tr>\n",
              "    <tr>\n",
              "      <th>2020-01-02</th>\n",
              "      <td>USW00024233</td>\n",
              "      <td>SEATTLE TACOMA AIRPORT, WA US</td>\n",
              "      <td>47.4444</td>\n",
              "      <td>-122.3138</td>\n",
              "      <td>112.8</td>\n",
              "      <td>9.17</td>\n",
              "      <td>NaN</td>\n",
              "      <td>3.255007e-06</td>\n",
              "      <td>0.0</td>\n",
              "      <td>0.0</td>\n",
              "      <td>45.0</td>\n",
              "      <td>0.50</td>\n",
              "      <td>0.41</td>\n",
              "      <td>180.0</td>\n",
              "      <td>170.0</td>\n",
              "      <td>19.9</td>\n",
              "      <td>27.1</td>\n",
              "      <td>1.0</td>\n",
              "      <td>NaN</td>\n",
              "      <td>NaN</td>\n",
              "      <td>NaN</td>\n",
              "      <td>0.455</td>\n",
              "      <td>0</td>\n",
              "    </tr>\n",
              "    <tr>\n",
              "      <th>2020-01-03</th>\n",
              "      <td>USW00024233</td>\n",
              "      <td>SEATTLE TACOMA AIRPORT, WA US</td>\n",
              "      <td>47.4444</td>\n",
              "      <td>-122.3138</td>\n",
              "      <td>112.8</td>\n",
              "      <td>9.62</td>\n",
              "      <td>NaN</td>\n",
              "      <td>6.045012e-06</td>\n",
              "      <td>0.0</td>\n",
              "      <td>0.0</td>\n",
              "      <td>48.0</td>\n",
              "      <td>0.62</td>\n",
              "      <td>0.46</td>\n",
              "      <td>220.0</td>\n",
              "      <td>220.0</td>\n",
              "      <td>28.0</td>\n",
              "      <td>38.9</td>\n",
              "      <td>1.0</td>\n",
              "      <td>NaN</td>\n",
              "      <td>NaN</td>\n",
              "      <td>1.0</td>\n",
              "      <td>0.540</td>\n",
              "      <td>0</td>\n",
              "    </tr>\n",
              "    <tr>\n",
              "      <th>2020-01-04</th>\n",
              "      <td>USW00024233</td>\n",
              "      <td>SEATTLE TACOMA AIRPORT, WA US</td>\n",
              "      <td>47.4444</td>\n",
              "      <td>-122.3138</td>\n",
              "      <td>112.8</td>\n",
              "      <td>14.09</td>\n",
              "      <td>NaN</td>\n",
              "      <td>1.550003e-06</td>\n",
              "      <td>0.0</td>\n",
              "      <td>0.0</td>\n",
              "      <td>47.0</td>\n",
              "      <td>0.46</td>\n",
              "      <td>0.40</td>\n",
              "      <td>210.0</td>\n",
              "      <td>190.0</td>\n",
              "      <td>30.0</td>\n",
              "      <td>38.0</td>\n",
              "      <td>1.0</td>\n",
              "      <td>NaN</td>\n",
              "      <td>NaN</td>\n",
              "      <td>NaN</td>\n",
              "      <td>0.430</td>\n",
              "      <td>0</td>\n",
              "    </tr>\n",
              "    <tr>\n",
              "      <th>2020-01-05</th>\n",
              "      <td>USW00024233</td>\n",
              "      <td>SEATTLE TACOMA AIRPORT, WA US</td>\n",
              "      <td>47.4444</td>\n",
              "      <td>-122.3138</td>\n",
              "      <td>112.8</td>\n",
              "      <td>14.32</td>\n",
              "      <td>NaN</td>\n",
              "      <td>2.170004e-06</td>\n",
              "      <td>0.0</td>\n",
              "      <td>0.0</td>\n",
              "      <td>44.0</td>\n",
              "      <td>0.48</td>\n",
              "      <td>0.42</td>\n",
              "      <td>200.0</td>\n",
              "      <td>200.0</td>\n",
              "      <td>25.9</td>\n",
              "      <td>33.1</td>\n",
              "      <td>1.0</td>\n",
              "      <td>NaN</td>\n",
              "      <td>NaN</td>\n",
              "      <td>NaN</td>\n",
              "      <td>0.450</td>\n",
              "      <td>0</td>\n",
              "    </tr>\n",
              "    <tr>\n",
              "      <th>...</th>\n",
              "      <td>...</td>\n",
              "      <td>...</td>\n",
              "      <td>...</td>\n",
              "      <td>...</td>\n",
              "      <td>...</td>\n",
              "      <td>...</td>\n",
              "      <td>...</td>\n",
              "      <td>...</td>\n",
              "      <td>...</td>\n",
              "      <td>...</td>\n",
              "      <td>...</td>\n",
              "      <td>...</td>\n",
              "      <td>...</td>\n",
              "      <td>...</td>\n",
              "      <td>...</td>\n",
              "      <td>...</td>\n",
              "      <td>...</td>\n",
              "      <td>...</td>\n",
              "      <td>...</td>\n",
              "      <td>...</td>\n",
              "      <td>...</td>\n",
              "      <td>...</td>\n",
              "      <td>...</td>\n",
              "    </tr>\n",
              "    <tr>\n",
              "      <th>2020-11-18</th>\n",
              "      <td>USW00024233</td>\n",
              "      <td>SEATTLE TACOMA AIRPORT, WA US</td>\n",
              "      <td>47.4444</td>\n",
              "      <td>-122.3138</td>\n",
              "      <td>112.8</td>\n",
              "      <td>10.96</td>\n",
              "      <td>1546.0</td>\n",
              "      <td>6.045012e-06</td>\n",
              "      <td>0.0</td>\n",
              "      <td>0.0</td>\n",
              "      <td>48.0</td>\n",
              "      <td>0.49</td>\n",
              "      <td>0.44</td>\n",
              "      <td>190.0</td>\n",
              "      <td>200.0</td>\n",
              "      <td>28.0</td>\n",
              "      <td>33.1</td>\n",
              "      <td>1.0</td>\n",
              "      <td>NaN</td>\n",
              "      <td>NaN</td>\n",
              "      <td>NaN</td>\n",
              "      <td>0.465</td>\n",
              "      <td>0</td>\n",
              "    </tr>\n",
              "    <tr>\n",
              "      <th>2020-11-19</th>\n",
              "      <td>USW00024233</td>\n",
              "      <td>SEATTLE TACOMA AIRPORT, WA US</td>\n",
              "      <td>47.4444</td>\n",
              "      <td>-122.3138</td>\n",
              "      <td>112.8</td>\n",
              "      <td>NaN</td>\n",
              "      <td>NaN</td>\n",
              "      <td>2.480005e-06</td>\n",
              "      <td>0.0</td>\n",
              "      <td>0.0</td>\n",
              "      <td>45.0</td>\n",
              "      <td>0.48</td>\n",
              "      <td>0.42</td>\n",
              "      <td>NaN</td>\n",
              "      <td>NaN</td>\n",
              "      <td>NaN</td>\n",
              "      <td>NaN</td>\n",
              "      <td>NaN</td>\n",
              "      <td>NaN</td>\n",
              "      <td>NaN</td>\n",
              "      <td>NaN</td>\n",
              "      <td>0.450</td>\n",
              "      <td>0</td>\n",
              "    </tr>\n",
              "    <tr>\n",
              "      <th>2020-11-20</th>\n",
              "      <td>USW00024233</td>\n",
              "      <td>SEATTLE TACOMA AIRPORT, WA US</td>\n",
              "      <td>47.4444</td>\n",
              "      <td>-122.3138</td>\n",
              "      <td>112.8</td>\n",
              "      <td>NaN</td>\n",
              "      <td>NaN</td>\n",
              "      <td>1.550003e-07</td>\n",
              "      <td>0.0</td>\n",
              "      <td>0.0</td>\n",
              "      <td>46.0</td>\n",
              "      <td>0.50</td>\n",
              "      <td>0.43</td>\n",
              "      <td>NaN</td>\n",
              "      <td>NaN</td>\n",
              "      <td>NaN</td>\n",
              "      <td>NaN</td>\n",
              "      <td>NaN</td>\n",
              "      <td>NaN</td>\n",
              "      <td>NaN</td>\n",
              "      <td>NaN</td>\n",
              "      <td>0.465</td>\n",
              "      <td>0</td>\n",
              "    </tr>\n",
              "    <tr>\n",
              "      <th>2020-11-21</th>\n",
              "      <td>USW00024233</td>\n",
              "      <td>SEATTLE TACOMA AIRPORT, WA US</td>\n",
              "      <td>47.4444</td>\n",
              "      <td>-122.3138</td>\n",
              "      <td>112.8</td>\n",
              "      <td>NaN</td>\n",
              "      <td>NaN</td>\n",
              "      <td>3.100006e-07</td>\n",
              "      <td>0.0</td>\n",
              "      <td>0.0</td>\n",
              "      <td>48.0</td>\n",
              "      <td>0.54</td>\n",
              "      <td>0.41</td>\n",
              "      <td>NaN</td>\n",
              "      <td>NaN</td>\n",
              "      <td>NaN</td>\n",
              "      <td>NaN</td>\n",
              "      <td>NaN</td>\n",
              "      <td>NaN</td>\n",
              "      <td>NaN</td>\n",
              "      <td>NaN</td>\n",
              "      <td>0.475</td>\n",
              "      <td>0</td>\n",
              "    </tr>\n",
              "    <tr>\n",
              "      <th>2020-11-22</th>\n",
              "      <td>USW00024233</td>\n",
              "      <td>SEATTLE TACOMA AIRPORT, WA US</td>\n",
              "      <td>47.4444</td>\n",
              "      <td>-122.3138</td>\n",
              "      <td>112.8</td>\n",
              "      <td>NaN</td>\n",
              "      <td>NaN</td>\n",
              "      <td>1.705003e-06</td>\n",
              "      <td>0.0</td>\n",
              "      <td>0.0</td>\n",
              "      <td>42.0</td>\n",
              "      <td>0.45</td>\n",
              "      <td>0.36</td>\n",
              "      <td>NaN</td>\n",
              "      <td>NaN</td>\n",
              "      <td>NaN</td>\n",
              "      <td>NaN</td>\n",
              "      <td>NaN</td>\n",
              "      <td>NaN</td>\n",
              "      <td>NaN</td>\n",
              "      <td>NaN</td>\n",
              "      <td>0.405</td>\n",
              "      <td>0</td>\n",
              "    </tr>\n",
              "  </tbody>\n",
              "</table>\n",
              "<p>327 rows × 23 columns</p>\n",
              "</div>"
            ],
            "text/plain": [
              "                STATION                           NAME  ...  Temp (C)  dry day\n",
              "DATE                                                    ...                   \n",
              "2020-01-01  USW00024233  SEATTLE TACOMA AIRPORT, WA US  ...     0.495        1\n",
              "2020-01-02  USW00024233  SEATTLE TACOMA AIRPORT, WA US  ...     0.455        0\n",
              "2020-01-03  USW00024233  SEATTLE TACOMA AIRPORT, WA US  ...     0.540        0\n",
              "2020-01-04  USW00024233  SEATTLE TACOMA AIRPORT, WA US  ...     0.430        0\n",
              "2020-01-05  USW00024233  SEATTLE TACOMA AIRPORT, WA US  ...     0.450        0\n",
              "...                 ...                            ...  ...       ...      ...\n",
              "2020-11-18  USW00024233  SEATTLE TACOMA AIRPORT, WA US  ...     0.465        0\n",
              "2020-11-19  USW00024233  SEATTLE TACOMA AIRPORT, WA US  ...     0.450        0\n",
              "2020-11-20  USW00024233  SEATTLE TACOMA AIRPORT, WA US  ...     0.465        0\n",
              "2020-11-21  USW00024233  SEATTLE TACOMA AIRPORT, WA US  ...     0.475        0\n",
              "2020-11-22  USW00024233  SEATTLE TACOMA AIRPORT, WA US  ...     0.405        0\n",
              "\n",
              "[327 rows x 23 columns]"
            ]
          },
          "metadata": {
            "tags": []
          },
          "execution_count": 58
        }
      ]
    },
    {
      "cell_type": "code",
      "metadata": {
        "id": "nfpf9Jb0K5H3"
      },
      "source": [
        "# temperatures are in 1/10 deg C; convert to C\n",
        "weather['TMIN'] /= 10\n",
        "weather['TMAX'] /= 10\n",
        "weather['Temp (C)'] = 0.5 * (weather['TMIN'] + weather['TMAX'])\n",
        "\n",
        "# precip is in 1/10 mm; convert to inches\n",
        "weather['PRCP'] /= 254\n",
        "weather['dry day'] = (weather['PRCP'] == 0).astype(int)\n",
        "\n",
        "daily = daily.merge(weather[['PRCP', 'Temp (C)', 'dry day']])"
      ],
      "execution_count": 61,
      "outputs": []
    },
    {
      "cell_type": "markdown",
      "metadata": {
        "id": "aeNVV1LCjTyN"
      },
      "source": [
        "Finally, let's add a counter that increases from day 1, and measures how many years have passed. This will let us measure any observed annual increase or decrease in daily crossings:\n",
        "\n"
      ]
    },
    {
      "cell_type": "code",
      "metadata": {
        "colab": {
          "base_uri": "https://localhost:8080/",
          "height": 282
        },
        "id": "BSJv7mLRLjfQ",
        "outputId": "c94bf2a0-c68a-40f5-804a-c4a66f3a6797"
      },
      "source": [
        "daily['annual'] = (daily.index - daily.index[0]).days / 365.\n"
      ],
      "execution_count": 62,
      "outputs": [
        {
          "output_type": "error",
          "ename": "IndexError",
          "evalue": "ignored",
          "traceback": [
            "\u001b[0;31m---------------------------------------------------------------------------\u001b[0m",
            "\u001b[0;31mIndexError\u001b[0m                                Traceback (most recent call last)",
            "\u001b[0;32m<ipython-input-62-3b057930be16>\u001b[0m in \u001b[0;36m<module>\u001b[0;34m()\u001b[0m\n\u001b[0;32m----> 1\u001b[0;31m \u001b[0mdaily\u001b[0m\u001b[0;34m[\u001b[0m\u001b[0;34m'annual'\u001b[0m\u001b[0;34m]\u001b[0m \u001b[0;34m=\u001b[0m \u001b[0;34m(\u001b[0m\u001b[0mdaily\u001b[0m\u001b[0;34m.\u001b[0m\u001b[0mindex\u001b[0m \u001b[0;34m-\u001b[0m \u001b[0mdaily\u001b[0m\u001b[0;34m.\u001b[0m\u001b[0mindex\u001b[0m\u001b[0;34m[\u001b[0m\u001b[0;36m0\u001b[0m\u001b[0;34m]\u001b[0m\u001b[0;34m)\u001b[0m\u001b[0;34m.\u001b[0m\u001b[0mdays\u001b[0m \u001b[0;34m/\u001b[0m \u001b[0;36m365.\u001b[0m\u001b[0;34m\u001b[0m\u001b[0;34m\u001b[0m\u001b[0m\n\u001b[0m",
            "\u001b[0;32m/usr/local/lib/python3.6/dist-packages/pandas/core/indexes/base.py\u001b[0m in \u001b[0;36m__getitem__\u001b[0;34m(self, key)\u001b[0m\n\u001b[1;32m   4099\u001b[0m         \u001b[0;32mif\u001b[0m \u001b[0mis_scalar\u001b[0m\u001b[0;34m(\u001b[0m\u001b[0mkey\u001b[0m\u001b[0;34m)\u001b[0m\u001b[0;34m:\u001b[0m\u001b[0;34m\u001b[0m\u001b[0;34m\u001b[0m\u001b[0m\n\u001b[1;32m   4100\u001b[0m             \u001b[0mkey\u001b[0m \u001b[0;34m=\u001b[0m \u001b[0mcom\u001b[0m\u001b[0;34m.\u001b[0m\u001b[0mcast_scalar_indexer\u001b[0m\u001b[0;34m(\u001b[0m\u001b[0mkey\u001b[0m\u001b[0;34m,\u001b[0m \u001b[0mwarn_float\u001b[0m\u001b[0;34m=\u001b[0m\u001b[0;32mTrue\u001b[0m\u001b[0;34m)\u001b[0m\u001b[0;34m\u001b[0m\u001b[0;34m\u001b[0m\u001b[0m\n\u001b[0;32m-> 4101\u001b[0;31m             \u001b[0;32mreturn\u001b[0m \u001b[0mgetitem\u001b[0m\u001b[0;34m(\u001b[0m\u001b[0mkey\u001b[0m\u001b[0;34m)\u001b[0m\u001b[0;34m\u001b[0m\u001b[0;34m\u001b[0m\u001b[0m\n\u001b[0m\u001b[1;32m   4102\u001b[0m \u001b[0;34m\u001b[0m\u001b[0m\n\u001b[1;32m   4103\u001b[0m         \u001b[0;32mif\u001b[0m \u001b[0misinstance\u001b[0m\u001b[0;34m(\u001b[0m\u001b[0mkey\u001b[0m\u001b[0;34m,\u001b[0m \u001b[0mslice\u001b[0m\u001b[0;34m)\u001b[0m\u001b[0;34m:\u001b[0m\u001b[0;34m\u001b[0m\u001b[0;34m\u001b[0m\u001b[0m\n",
            "\u001b[0;31mIndexError\u001b[0m: index 0 is out of bounds for axis 0 with size 0"
          ]
        }
      ]
    },
    {
      "cell_type": "code",
      "metadata": {
        "colab": {
          "base_uri": "https://localhost:8080/",
          "height": 49
        },
        "id": "G9evVpMuLpOf",
        "outputId": "43415ad4-1382-4ee7-c043-cdb4640b1470"
      },
      "source": [
        "daily.head()\n"
      ],
      "execution_count": 63,
      "outputs": [
        {
          "output_type": "execute_result",
          "data": {
            "text/html": [
              "<div>\n",
              "<style scoped>\n",
              "    .dataframe tbody tr th:only-of-type {\n",
              "        vertical-align: middle;\n",
              "    }\n",
              "\n",
              "    .dataframe tbody tr th {\n",
              "        vertical-align: top;\n",
              "    }\n",
              "\n",
              "    .dataframe thead th {\n",
              "        text-align: right;\n",
              "    }\n",
              "</style>\n",
              "<table border=\"1\" class=\"dataframe\">\n",
              "  <thead>\n",
              "    <tr style=\"text-align: right;\">\n",
              "      <th></th>\n",
              "      <th>Total</th>\n",
              "      <th>Mon</th>\n",
              "      <th>Tue</th>\n",
              "      <th>Wed</th>\n",
              "      <th>Thu</th>\n",
              "      <th>Fri</th>\n",
              "      <th>Sat</th>\n",
              "      <th>Sun</th>\n",
              "      <th>holiday</th>\n",
              "      <th>daylight_hrs</th>\n",
              "      <th>PRCP</th>\n",
              "      <th>Temp (C)</th>\n",
              "      <th>dry day</th>\n",
              "      <th>annual</th>\n",
              "    </tr>\n",
              "  </thead>\n",
              "  <tbody>\n",
              "  </tbody>\n",
              "</table>\n",
              "</div>"
            ],
            "text/plain": [
              "Empty DataFrame\n",
              "Columns: [Total, Mon, Tue, Wed, Thu, Fri, Sat, Sun, holiday, daylight_hrs, PRCP, Temp (C), dry day, annual]\n",
              "Index: []"
            ]
          },
          "metadata": {
            "tags": []
          },
          "execution_count": 63
        }
      ]
    }
  ]
}